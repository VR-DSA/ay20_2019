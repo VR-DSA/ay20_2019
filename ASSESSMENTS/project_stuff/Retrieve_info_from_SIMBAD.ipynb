{
 "cells": [
  {
   "cell_type": "markdown",
   "metadata": {},
   "source": [
    "Start by importing relevant things (and make plots inline)"
   ]
  },
  {
   "cell_type": "code",
   "execution_count": 12,
   "metadata": {},
   "outputs": [],
   "source": [
    "import numpy as np, matplotlib.pyplot as plt\n",
    "from astroquery.simbad import Simbad\n",
    "%matplotlib inline"
   ]
  },
  {
   "cell_type": "markdown",
   "metadata": {},
   "source": [
    "Create a query object, and list the current and possible query fields."
   ]
  },
  {
   "cell_type": "code",
   "execution_count": 13,
   "metadata": {},
   "outputs": [
    {
     "name": "stdout",
     "output_type": "stream",
     "text": [
      "Current fields...\n",
      "['main_id', 'coordinates']\n",
      "()\n",
      "All fields\n",
      "--NOTES--\n",
      "\n",
      "1. The parameter filtername must correspond to an existing filter. Filters include: B,V,R,I,J,K.  They are checked by SIMBAD but not astroquery.simbad\n",
      "\n",
      "2. Fields beginning with rvz display the data as it is in the database. Fields beginning with rv force the display as a radial velocity. Fields beginning with z force the display as a redshift\n",
      "\n",
      "3. For each measurement catalog, the VOTable contains all fields of the first measurement. When applicable, the first measurement is the mean one. \n",
      "\n",
      "Available VOTABLE fields:\n",
      "\n",
      "bibcodelist(y1-y2)\n",
      "cel\n",
      "cl.g\n",
      "coo(opt)\n",
      "coo_bibcode\n",
      "coo_err_angle\n",
      "coo_err_maja\n",
      "coo_err_mina\n",
      "coo_qual\n",
      "coo_wavelength\n",
      "coordinates\n",
      "dec(opt)\n",
      "dec_prec\n",
      "diameter\n",
      "dim\n",
      "dim_angle\n",
      "dim_bibcode\n",
      "dim_incl\n",
      "dim_majaxis\n",
      "dim_minaxis\n",
      "dim_qual\n",
      "dim_wavelength\n",
      "dimensions\n",
      "dist\n",
      "distance\n",
      "einstein\n",
      "fe_h\n",
      "flux(filtername)\n",
      "flux_bibcode(filtername)\n",
      "flux_error(filtername)\n",
      "flux_name(filtername)\n",
      "flux_qual(filtername)\n",
      "flux_system(filtername)\n",
      "flux_unit(filtername)\n",
      "fluxdata(filtername)\n",
      "gcrv\n",
      "gen\n",
      "gj\n",
      "hbet\n",
      "hbet1\n",
      "hgam\n",
      "id(opt)\n",
      "ids\n",
      "iras\n",
      "irc\n",
      "iso\n",
      "iue\n",
      "jp11\n",
      "main_id\n",
      "measurements\n",
      "mesplx\n",
      "mespm\n",
      "mk\n",
      "morphtype\n",
      "mt\n",
      "mt_bibcode\n",
      "mt_qual\n",
      "orv\n",
      "otype\n",
      "otype(opt)\n",
      "parallax\n",
      "plx\n",
      "plx_bibcode\n",
      "plx_error\n",
      "plx_prec\n",
      "plx_qual\n",
      "pm\n",
      "pm_bibcode\n",
      "pm_err_angle\n",
      "pm_err_maja\n",
      "pm_err_mina\n",
      "pm_qual\n",
      "pmdec\n",
      "pmdec_prec\n",
      "pmra\n",
      "pmra_prec\n",
      "pos\n",
      "posa\n",
      "propermotions\n",
      "ra(opt)\n",
      "ra_prec\n",
      "rot\n",
      "rv_value\n",
      "rvel\n",
      "rvz_bibcode\n",
      "rvz_error\n",
      "rvz_qual\n",
      "rvz_radvel\n",
      "rvz_type\n",
      "rvz_wavelength\n",
      "sao\n",
      "sp\n",
      "sp_bibcode\n",
      "sp_nature\n",
      "sp_qual\n",
      "sptype\n",
      "td1\n",
      "ubv\n",
      "uvby\n",
      "uvby1\n",
      "v*\n",
      "velocity\n",
      "xmm\n",
      "z\n",
      "z_value\n",
      "ze\n",
      "For more information on a field:\n",
      "Simbad.get_field_description ('field_name') \n",
      "Currently active VOTABLE fields:\n",
      " ['main_id', 'coordinates']\n"
     ]
    }
   ],
   "source": [
    "mySimbad = Simbad()\n",
    "print('Current fields...')\n",
    "print(mySimbad.get_votable_fields())\n",
    "print()\n",
    "print('All fields')\n",
    "mySimbad.list_votable_fields()"
   ]
  },
  {
   "cell_type": "markdown",
   "metadata": {},
   "source": [
    "We want to know about parallax, proper motion, and radial velocity. These include 'plx', 'pmra', 'pmdec', 'rv_value'. Let's also keep the 'main_id', but remove 'coordinates'."
   ]
  },
  {
   "cell_type": "code",
   "execution_count": 14,
   "metadata": {},
   "outputs": [
    {
     "name": "stdout",
     "output_type": "stream",
     "text": [
      "Current fields...\n",
      "['main_id', 'plx', 'pmra', 'pmdec', 'rv_value']\n"
     ]
    }
   ],
   "source": [
    "# remove coordinates\n",
    "mySimbad.remove_votable_fields('coordinates')\n",
    "# add everything else\n",
    "mySimbad.add_votable_fields('plx','pmra','pmdec','rv_value')\n",
    "print('Current fields...')\n",
    "print(mySimbad.get_votable_fields())"
   ]
  },
  {
   "cell_type": "markdown",
   "metadata": {},
   "source": [
    "Now let's do the query! Let's keep everything with a parallax > 100 mas. I also choose objects with known radial velocities by simply requiring that the radvel not be 0.0."
   ]
  },
  {
   "cell_type": "code",
   "execution_count": 19,
   "metadata": {},
   "outputs": [
    {
     "name": "stdout",
     "output_type": "stream",
     "text": [
      "        MAIN_ID         PLX_VALUE    PMRA     PMDEC   RV_VALUE\n",
      "                           mas     mas / yr  mas / yr  km / s \n",
      "----------------------- --------- --------- --------- --------\n",
      "            *  61 Cyg B   286.146  4105.786  3155.759  -64.070\n",
      "            *  61 Cyg A   285.946  4164.174  3249.991  -65.740\n",
      "              V* EV Lac   198.011  -706.152  -458.775    0.400\n",
      "              * mu. Cas   132.380  3422.230 -1598.930  -98.100\n",
      "              HD 219134   153.081  2074.517   294.936  -18.830\n",
      "            * eta Cas B   168.752  1144.574  -469.382   10.450\n",
      "              * eta Cas   167.980  1086.590  -559.430    8.440\n",
      "             HD 239960B   249.967  -934.098  -686.244  -28.000\n",
      "              HD 239960   249.940  -865.470  -461.530  -33.940\n",
      "2MASS J00113182+5908400   107.421  -905.704 -1166.808  -45.318\n",
      "                    ...       ...       ...       ...      ...\n",
      "             LP  399-68   124.253  -782.177   689.869  -26.800\n",
      "              Wolf  437   123.822 -1008.602  -459.800   19.090\n",
      "               G 203-47   134.597   332.591  -271.834   41.041\n",
      "            CD-30   731   106.709  -524.931   103.666   36.900\n",
      "             L  768-119   105.891 -2013.048 -1040.932   84.920\n",
      "            CD-44 11909   199.703  -706.117  -937.912  -60.000\n",
      "              Ross 1015   108.825  -111.928  -712.448    6.300\n",
      "               G 111-47   113.090   217.004  -687.761  -21.000\n",
      "              V* YZ Cet   269.363  1205.176   637.758   28.090\n",
      "             LP  816-60   178.124  -309.217    37.345   16.300\n",
      "Length = 302 rows\n"
     ]
    }
   ],
   "source": [
    "result_table = mySimbad.query_criteria('plx>100 & radvel!=0.0')\n",
    "print(result_table)"
   ]
  },
  {
   "cell_type": "markdown",
   "metadata": {},
   "source": [
    "Great! Now all we need to do is save the output. I've chosen csv so that it can be read into a spreadsheet."
   ]
  },
  {
   "cell_type": "code",
   "execution_count": 20,
   "metadata": {},
   "outputs": [],
   "source": [
    "result_table.write('plx_gt_100.csv',format='ascii.csv')"
   ]
  },
  {
   "cell_type": "code",
   "execution_count": null,
   "metadata": {},
   "outputs": [],
   "source": []
  }
 ],
 "metadata": {
  "kernelspec": {
   "display_name": "Python 2",
   "language": "python",
   "name": "python2"
  },
  "language_info": {
   "codemirror_mode": {
    "name": "ipython",
    "version": 2
   },
   "file_extension": ".py",
   "mimetype": "text/x-python",
   "name": "python",
   "nbconvert_exporter": "python",
   "pygments_lexer": "ipython2",
   "version": "2.7.13"
  }
 },
 "nbformat": 4,
 "nbformat_minor": 2
}
