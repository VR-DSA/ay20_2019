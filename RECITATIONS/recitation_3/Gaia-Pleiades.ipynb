{
 "cells": [
  {
   "cell_type": "markdown",
   "metadata": {},
   "source": [
    "# Gaia Distance of the Open Cluster Pleiades\n",
    "Gaia is an European Space Agency (ESA) space mission that aims at measuring the position and parallax of 1 billion stars in our galaxy by revisiting each field 70 times over the mission lifetime. It will also provide radial velocity measurements for the brightest 150 million stars. For more about Gaia see https://sci.esa.int/web/gaia/-/28820-summary\n",
    "\n",
    "Pleiades(M45), also known as the Seven Sisters, is an open star cluster that is visible to eyes in the night sky. It one of the closest star clusters. However, the distance to Pleiades has been controversial, because Gaia's predecessor, Hipparcos, measured a distance that was in disagreement with almost all other methods:\n",
    "<img src=\"pleiades.jpg\" width=500x>\n",
    "\n",
    "People have previously thought that the disagreement had to do with our lack of understanding of the physics of stars in this cluster. However, with more recent radio Very Long Baseline Interferometry (VLBI) measurements and new data from Gaia, it seems like the Hipparcos measurement was off for reasons that we still do not know. Léo Girardi offered a good summary in his Perspective piece on the Science issue that published the VLBI results (https://science.sciencemag.org/content/345/6200/1001).\n",
    "\n",
    "In this exercise, you will get data from the Gaia catalog, isolate members of the Pleiades from other stars in the field, and measure the distance to the cluster!"
   ]
  },
  {
   "cell_type": "markdown",
   "metadata": {},
   "source": [
    "## Getting the data"
   ]
  },
  {
   "cell_type": "markdown",
   "metadata": {},
   "source": [
    "Some imports. Also define a utility class so that you get an error when you forget to fill in code segments.\n",
    "\n",
    "If you see `REPLACE_WITH_YOUR_SOLUTION()`, replace it with your own code unless otherwise directed."
   ]
  },
  {
   "cell_type": "code",
   "execution_count": null,
   "metadata": {},
   "outputs": [],
   "source": [
    "%matplotlib inline\n",
    "import matplotlib.pyplot as plt\n",
    "import numpy as np\n",
    "import warnings\n",
    "warnings.filterwarnings('ignore')\n",
    "class SolutionMissingError(Exception):\n",
    "    def __init__(self, text=None):\n",
    "        Exception.__init__(self, text if text else \"You need to complete the solution for this code to work!\")\n",
    "def REPLACE_WITH_YOUR_SOLUTION(words=None):\n",
    "    raise SolutionMissingError(words)"
   ]
  },
  {
   "cell_type": "markdown",
   "metadata": {},
   "source": [
    "Some configuration stuff. If you're connected to the ethernet, set the following to `True`. Point `CSV_FILE_PATH` to where the downloaded data file is."
   ]
  },
  {
   "cell_type": "code",
   "execution_count": null,
   "metadata": {},
   "outputs": [],
   "source": [
    "HAS_GOOD_INTERNET = False\n",
    "CSV_FILE_PATH = './query.ecsv'"
   ]
  },
  {
   "cell_type": "markdown",
   "metadata": {},
   "source": [
    "\n",
    "If you have good internet, we can use astroquery to explore the Gaia catalog, and download the data toward Pleiades (M45).\n",
    "\n",
    "We use an asynchronous query (asynchronous rather than synchronous queries should be performed when retrieving more than 2000 rows) centerd on the Pleiades (coordinates: 56.75, +24.1167) with a search radius of 2 degrees and save the results to a file.\n",
    "\n",
    "Note: The query to the archive is with ADQL (Astronomical Data Query Language). For a description of ADQL and more examples see the Gaia DR1 ADQL cookbook: https://gaia.ac.uk/data/gaia-data-release-1/adql-cookbook.\n",
    "\n",
    "If the internet is not good. You can point `CSV_FILE_PATH` from the above cell to the downloaded data."
   ]
  },
  {
   "cell_type": "code",
   "execution_count": null,
   "metadata": {},
   "outputs": [],
   "source": [
    "if HAS_GOOD_INTERNET:\n",
    "    from astroquery.gaia import Gaia\n",
    "    job = Gaia.launch_job_async(\"SELECT * \\\n",
    "        FROM gaiadr2.gaia_source \\\n",
    "        WHERE CONTAINS(POINT('ICRS',gaiadr2.gaia_source.ra,gaiadr2.gaia_source.dec),CIRCLE('ICRS',56.75,24.1167,2))=1;\" \\\n",
    "        , dump_to_file=True)\n",
    "    table = job.get_results()\n",
    "else:\n",
    "    from astropy.table import Table\n",
    "    table = Table.read(CSV_FILE_PATH, format='ascii.ecsv')"
   ]
  },
  {
   "cell_type": "markdown",
   "metadata": {},
   "source": [
    "Can you make sense of the query that we just launched? In particular, what does ICRS mean?"
   ]
  },
  {
   "cell_type": "code",
   "execution_count": null,
   "metadata": {},
   "outputs": [],
   "source": [
    "REPLACE_WITH_YOUR_SOLUTION(\"Talk to your partner about the query. No coding required here\")"
   ]
  },
  {
   "cell_type": "markdown",
   "metadata": {},
   "source": [
    "Now we look at the column names. Not all of these are the most transparent things ever. For a description of all the columns see https://gea.esac.esa.int/archive/documentation/GDR2/Gaia_archive/chap_datamodel/sec_dm_main_tables/ssec_dm_gaia_source.html. **You will need to refer to the list of columns for the next part of this exercise**"
   ]
  },
  {
   "cell_type": "code",
   "execution_count": null,
   "metadata": {},
   "outputs": [],
   "source": [
    "table.colnames"
   ]
  },
  {
   "cell_type": "code",
   "execution_count": null,
   "metadata": {},
   "outputs": [],
   "source": [
    "table['solution_id'].shape"
   ]
  },
  {
   "cell_type": "markdown",
   "metadata": {},
   "source": [
    "Our data contain 110203 stars!"
   ]
  },
  {
   "cell_type": "markdown",
   "metadata": {},
   "source": [
    "## Finding the cluster\n",
    "The most common way to find a cluster is to look for stars that move together. We can start by scatter plotting the proper motion in RA and DEC.\n",
    "\n",
    "If we were to do this with Gaia's Data Release 1 (DR1), we would be seeing a cluster of points in this plane corresponding to the Pleiades. However, there are many more stars in the Data Release 2 (DR2), and we need to do more work to identify the cluster from all the stars in the field."
   ]
  },
  {
   "cell_type": "code",
   "execution_count": null,
   "metadata": {},
   "outputs": [],
   "source": [
    "plt.scatter(table['pmra'], table['pmdec'], color='r', alpha=0.3)\n",
    "plt.xlabel('PMRA(mas/year)')\n",
    "plt.ylabel('PMDEC(mas/year)')\n",
    "plt.xlim(-60,80)\n",
    "plt.ylim(-120,30)"
   ]
  },
  {
   "cell_type": "markdown",
   "metadata": {},
   "source": [
    "We don't see the cluster :(. You will have to come up with a set of the criteria so that the cluster would pop up (somewhat). You might want to consider the phot_g_mean_mag, parallax, parallax_error, pmra_error, and pmde_error.\n",
    "You can use `plt.hist()` to get a sense of how those parameters are distributed.\n",
    "\n",
    "Note that the Pleiades is relatively close by. So Gaia should measure a pretty significant parallax for it.\n",
    "\n",
    "While you're at it. How would you look for one of those hypervelocity stars from exploded white dwarf binaries that we explored in Problem Set 1?"
   ]
  },
  {
   "cell_type": "code",
   "execution_count": null,
   "metadata": {},
   "outputs": [],
   "source": [
    "# Explore the distributions of the data here. Use hist and scatter to zero in on the cluster.\n",
    "plt.hist(table['parallax'])"
   ]
  },
  {
   "cell_type": "code",
   "execution_count": null,
   "metadata": {},
   "outputs": [],
   "source": [
    "REPLACE_WITH_YOUR_SOLUTION()\n",
    "# Edit the following function to apply your selection criteria for members of the cluster\n",
    "def find_cluster(table):\n",
    "    # this is just an example that illustrates the syntax. It is not likely to be super useful.\n",
    "    m45_table = table[\n",
    "        (table['pmra_error']<table['pmra']) & \\\n",
    "    (table['pmdec_error']<table['pmdec'])\n",
    "    ]\n",
    "    return m45_table"
   ]
  },
  {
   "cell_type": "code",
   "execution_count": null,
   "metadata": {},
   "outputs": [],
   "source": [
    "# Check your result\n",
    "m45_table = find_cluster(table)\n",
    "plt.scatter(m45_table['pmra'], m45_table['pmdec'], color='r', alpha=0.3)\n",
    "plt.xlabel('PMRA(mas/year)')\n",
    "plt.ylabel('PMDEC(mas/year)')\n",
    "plt.xlim(-60,80)\n",
    "plt.ylim(-120,30)"
   ]
  },
  {
   "cell_type": "code",
   "execution_count": null,
   "metadata": {},
   "outputs": [],
   "source": [
    "# how many stars do we have left?\n",
    "m45_table['solution_id'].shape"
   ]
  },
  {
   "cell_type": "markdown",
   "metadata": {},
   "source": [
    "## The HR Diagram\n",
    "Since all the stars in a cluster are roughly born at the same time, you should be able to plot an observer's HR diagram (color-magnitude), with appropriately chosen data columns. Can you spot the main sequence?\n",
    "\n",
    "Now correct the magnitude by the distance modulus, see how the HR diagram changes. Compare it to the H-R diagram obtained by Gaia, how is this different from the Gaia HR Diagram? What do these differences tell you about the cluster?\n",
    "<img src=\"gaia-hr.jpg\">"
   ]
  },
  {
   "cell_type": "code",
   "execution_count": null,
   "metadata": {},
   "outputs": [],
   "source": [
    "# Make an H-R diagram! Make sure you get the directions of the axes right.\n",
    "# You might find plt.gca().invert_xaxis() and plt.gca().invert_yaxis() useful\n",
    "REPLACE_WITH_YOUR_SOLUTION()"
   ]
  },
  {
   "cell_type": "markdown",
   "metadata": {},
   "source": [
    "Now correct the magnitude by the distance modulus, see how the HR diagram changes. Compare it to the H-R diagram obtained by Gaia, how is this different from the Gaia HR Diagram? What do these differences tell you about the cluster?\n",
    "<img src=\"gaia-hr.jpg\">"
   ]
  },
  {
   "cell_type": "code",
   "execution_count": null,
   "metadata": {},
   "outputs": [],
   "source": [
    "# Make an H-R diagram! Make sure you get the directions of the axes right.\n",
    "# You might find plt.gca().invert_xaxis() and plt.gca().invert_yaxis() useful\n",
    "REPLACE_WITH_YOUR_SOLUTION()"
   ]
  },
  {
   "cell_type": "markdown",
   "metadata": {},
   "source": [
    "Are there other quantities in the Gaia catalog that can be plotted in a HR diagram? Try taking a different set of quantities and see what you get."
   ]
  },
  {
   "cell_type": "code",
   "execution_count": null,
   "metadata": {},
   "outputs": [],
   "source": [
    "REPLACE_WITH_YOUR_SOLUTION()"
   ]
  },
  {
   "cell_type": "markdown",
   "metadata": {},
   "source": [
    "## Now onto the distance\n",
    "Talk to your partner to come up with at least two ways of measuring the distance to the cluster, given the data.\n",
    "\n",
    "Now execute the simplest one. No measurements or inferences are good without uncertainty. Come up with a procedure to determine the error in your measurement."
   ]
  },
  {
   "cell_type": "code",
   "execution_count": null,
   "metadata": {},
   "outputs": [],
   "source": [
    "REPLACE_WITH_YOUR_SOLUTION()"
   ]
  },
  {
   "cell_type": "markdown",
   "metadata": {},
   "source": [
    "## Epilogue\n",
    "Getting a distance from a parallax might seem like straightforward. But measurements have uncertainties, and properly describing the uncertainties and converting the uncertainties in parallax measurements into distances is not always the most straightforward thing ever, because distance is not a linear function of parallax. I would recommend reading the Introduction section of Bailer-Jones etl al. 2018 (https://arxiv.org/abs/1804.10121) to get a sense of the nuances involved in inferring distances from parallax measurements."
   ]
  },
  {
   "cell_type": "code",
   "execution_count": null,
   "metadata": {},
   "outputs": [],
   "source": []
  }
 ],
 "metadata": {
  "kernelspec": {
   "display_name": "Python 3",
   "language": "python",
   "name": "python3"
  },
  "language_info": {
   "codemirror_mode": {
    "name": "ipython",
    "version": 3
   },
   "file_extension": ".py",
   "mimetype": "text/x-python",
   "name": "python",
   "nbconvert_exporter": "python",
   "pygments_lexer": "ipython3",
   "version": "3.7.5"
  }
 },
 "nbformat": 4,
 "nbformat_minor": 2
}
